{
 "cells": [
  {
   "cell_type": "code",
   "execution_count": 23,
   "metadata": {},
   "outputs": [],
   "source": [
    "import pandas as pd\n",
    "import copy\n",
    "import warnings\n",
    "import csv\n",
    "from datetime import date\n",
    "import numpy as np\n",
    "\n",
    "from sklearn import metrics\n",
    "import matplotlib.pyplot as plt\n",
    "import shap  # package used to calculate Shap values\n",
    "from IPython.display import display, Image\n",
    "\n",
    "import os\n",
    "from os import listdir\n",
    "from os.path import isfile, join\n",
    "\n",
    "from sklearn.metrics import roc_auc_score\n",
    "from sklearn.metrics import confusion_matrix\n",
    "from sklearn.metrics import average_precision_score\n",
    "from sklearn.metrics import precision_score\n",
    "import time\n",
    "from sklearn.preprocessing import label_binarize\n",
    "from sklearn.metrics import accuracy_score\n",
    "from sklearn.metrics import precision_recall_curve\n",
    "from sklearn.metrics import auc\n",
    "\n",
    "import xgboost as xgb\n",
    "import shap\n",
    "from tqdm import tqdm \n",
    "\n",
    "\n",
    "warnings.filterwarnings(\"ignore\")"
   ]
  },
  {
   "cell_type": "code",
   "execution_count": 24,
   "metadata": {},
   "outputs": [],
   "source": [
    "#Full results\n",
    "\n",
    "df_ExtraTree = pd.read_csv('FINAL_EXTRA.csv')\n",
    "df_DBFR = pd.read_csv('DBRF_Final_Results.csv')\n",
    "df_ExtraTree['Algorithm Name'] = df_ExtraTree['Algorithm Name'].map(lambda algo_name: 'EXTRA TREES')\n",
    "\n",
    "df_results = pd.concat([df_ExtraTree, df_DBFR])\n",
    "df_results['Dataset Name'] = df_results['Dataset Name'].map(lambda data_name: data_name.rsplit('.',1)[0])\n",
    "pd.DataFrame(df_results).to_csv(\"all_reslts.csv\", index=False)\n"
   ]
  },
  {
   "cell_type": "code",
   "execution_count": 25,
   "metadata": {},
   "outputs": [],
   "source": [
    "def ensure_dir(file_path):\n",
    "    if not os.path.exists(file_path):\n",
    "        os.makedirs(file_path)\n",
    "\n",
    "def save_results(parameters):\n",
    "    today = str(date.today())\n",
    "    ensure_dir(today)\n",
    "\n",
    "    DIR = today\n",
    "    index_file = len([name for name in os.listdir(DIR) if os.path.isfile(os.path.join(DIR, name))])\n",
    "\n",
    "    with open(today + '/Meta_learning_Parameters' + str(index_file) + '.csv', 'w', newline='') as pred_file:\n",
    "        pred_writer = csv.writer(pred_file, delimiter=',', quotechar='\"', quoting=csv.QUOTE_MINIMAL)\n",
    "        titles = ['Dataset Name','Algorithm Name','Accuracy','TPR','FPR',\n",
    "          'Precision', 'AUC', 'PR-Curve', 'Training Time', 'Inference Time']\n",
    "\n",
    "        pred_writer.writerow(titles)\n",
    "        \n",
    "        \n",
    "        for current_dict in parameters:\n",
    "            pred_writer.writerow([current_dict.get('Dataset Name'),\n",
    "                     current_dict.get('Algorithm Name'),\n",
    "                     current_dict.get('Accuracy'),\n",
    "                     current_dict.get('TPR'),\n",
    "                     current_dict.get('FPR'),\n",
    "                     current_dict.get('Precision'),\n",
    "                     current_dict.get('AUC'),\n",
    "                     current_dict.get('PR-Curve'),\n",
    "                     current_dict.get( 'Training Time'),\n",
    "                     current_dict.get('Inference Time')])\n",
    "                \n",
    "        \n",
    "    "
   ]
  },
  {
   "cell_type": "code",
   "execution_count": 26,
   "metadata": {},
   "outputs": [],
   "source": [
    "\n",
    "def who_win(df_results,dataset_names):\n",
    "    # this function get the auc results of each algorithm for all datasets\n",
    "    # and returns dataframe contain binary label for each dataset which algorithm have the best auc result.\n",
    "\n",
    "    #slice per algorithm\n",
    "    ExtraTrees_results = df_results.loc[lambda df: df['Algorithm Name'] == 'EXTRA TREES', :]\n",
    "    DBRF_results =  df_results.loc[lambda df: df['Algorithm Name'] == 'DBRF', :]\n",
    "   \n",
    "    rows_list = []\n",
    "    for name_res,name_meta in tqdm(dataset_names):\n",
    "    \n",
    "        dict1 = {}\n",
    "        dict2 = {}\n",
    "        # slice per dataset\n",
    "        ExtraTrees_results_dataset = ExtraTrees_results.loc[lambda df: df['Dataset Name'] == name_res,:]\n",
    "        DBRF_results_dataset = DBRF_results.loc[lambda df: df['Dataset Name'] == name_res,:]\n",
    "        #print(\"*********extra tree*********\")\n",
    "        #print(ExtraTrees_results_dataset.head(10))\n",
    "        #print(\"DBRF\")\n",
    "        #print(DBRF_results_dataset.head(5))\n",
    "        # best auc\n",
    "        best_auc_ExtraTrees = ExtraTrees_results_dataset['AUC'].max()  \n",
    "        best_auc_DBRF = DBRF_results_dataset['AUC'].max()  \n",
    "        \n",
    "        #print(best_auc_ExtraTrees)\n",
    "        #print(best_auc_DBRF)\n",
    "        #compare auc and save labels\n",
    "        # who win?\n",
    "        dict1 = { 'dataset': name_meta,\n",
    "                 'Algorithm Name': 'EXTRA TREES',\n",
    "                 'label':0 if best_auc_ExtraTrees < best_auc_DBRF else 1\n",
    "                }\n",
    "        dict2 = { 'dataset': name_meta,\n",
    "                 'Algorithm Name': 'DBRF',\n",
    "                 'label':1 if best_auc_ExtraTrees < best_auc_DBRF  else 0\n",
    "                }\n",
    "   \n",
    "        \n",
    "        # save the dict in a list                         \n",
    "        rows_list.append(dict1)\n",
    "        rows_list.append(dict2)\n",
    "\n",
    "\n",
    "    # convert list to dataframe\n",
    "    df_who_win = pd.DataFrame(rows_list)\n",
    "    return df_who_win.copy()"
   ]
  },
  {
   "cell_type": "code",
   "execution_count": 27,
   "metadata": {},
   "outputs": [],
   "source": [
    "def binary_params(X_train, X_test, y_train, y_test):\n",
    "\n",
    "     # this function calculate the parameters for binary classification problems\n",
    "    #and return a dictionary with the results\n",
    "    \n",
    "    \n",
    "    #fit model\n",
    "    \n",
    "    model = xgb.XGBClassifier(random_state=1,learning_rate=0.01)\n",
    "\n",
    "\n",
    "    #time.process_time() will measure the CPU time\n",
    "    start1 = time.process_time()\n",
    "    model.fit(X_train,y_train)\n",
    "    train_time = time.process_time() - start1\n",
    "    \n",
    "    #prediction\n",
    "    start2 = time.process_time()\n",
    "    # predict probability that this model will win\n",
    "    y_prob = model.predict_proba(X_test)[:, 1]\n",
    "    predict_time = time.process_time() - start2\n",
    "    \n",
    "    y_pred = model.predict(X_test)\n",
    "\n",
    "\n",
    "    #dataframe size\n",
    "    r, c = X_test.shape\n",
    "    \n",
    "    # Scale\n",
    "    infer_time = predict_time*(1000/r)\n",
    "    \n",
    "    #Accuracy\n",
    "    #preds_classes = [x.index(max(x)) for x in prediction_probab]\n",
    "    acc_score = accuracy_score(y_test, y_pred)\n",
    "   \n",
    "    # TPR, FPR ,Precision\n",
    "    tn, fp, fn, tp = confusion_matrix(y_test, y_pred).ravel()\n",
    "    \n",
    "    # Sensitivity, hit rate, recall, or true positive rate\n",
    "    TPR = tp/(tp+fn)\n",
    "    \n",
    "    # Fall out or false positive rate\n",
    "    FPR = fp/(fp+tn)\n",
    "    \n",
    "    # Precision or positive predictive value\n",
    "    #Precision = tp/(tp+fp)\n",
    "    precision = precision_score(y_test, y_pred, average='binary')\n",
    "    \n",
    "     \n",
    "    #auc calculation\n",
    "    score = roc_auc_score(y_test, y_prob)\n",
    "    \n",
    "    #Area under Precision-Recall Curve \n",
    "    average_precision = average_precision_score(y_test, y_prob)\n",
    "    \n",
    "    #save all calculations in a dictionary\n",
    "    params = {'Accuracy':acc_score,\n",
    "              'TPR':TPR,\n",
    "              'FPR':FPR,\n",
    "              'Precision':precision,\n",
    "              'AUC':score,\n",
    "              'PR-Curve':average_precision,\n",
    "              'Training Time':train_time,\n",
    "              'Inference Time':infer_time}\n",
    "    \n",
    "    return params\n"
   ]
  },
  {
   "cell_type": "code",
   "execution_count": 28,
   "metadata": {},
   "outputs": [],
   "source": [
    "def leave_one_out(df_labeled_enco,dataset_names):\n",
    "    #leave one out\n",
    "\n",
    "    Performence_list = []\n",
    "    for name in tqdm(dataset_names):\n",
    "    \n",
    "        params_dict = {}\n",
    "        #print(name)\n",
    "        # Leave one out by dataset name\n",
    "        df_train = df_labeled_enco.loc[lambda df: df['dataset'] != name, :]\n",
    "        df_test = df_labeled_enco.loc[lambda df: df['dataset'] == name, :]\n",
    "    \n",
    "        df_train = df_train.drop(columns='dataset')\n",
    "        df_test = df_test.drop(columns='dataset')\n",
    "    \n",
    "        #split to train and test\n",
    "        x_train = df_train.loc[:, df_train.columns != 'label']\n",
    "        y_train = df_train['label']\n",
    "    \n",
    "        x_test = df_test.loc[:, df_test.columns != 'label']\n",
    "        y_test = df_test['label']\n",
    "    \n",
    "      \n",
    "        #print(x_test)\n",
    "        #print(y_test)\n",
    "    \n",
    "        params_dict = binary_params(x_train, x_test, y_train, y_test)\n",
    "    \n",
    "        params_dict['Dataset Name'] = name\n",
    "        params_dict['Algorithm Name'] = 'XGBoost'\n",
    "    \n",
    "        Performence_list.append(params_dict)\n",
    "    return Performence_list\n",
    "    \n"
   ]
  },
  {
   "cell_type": "code",
   "execution_count": 41,
   "metadata": {},
   "outputs": [],
   "source": [
    "def Importance_and_Shap(df_labeled):\n",
    "    #Feature Importance and Shap\n",
    "    df_labeled = df_labeled.drop(columns='dataset')\n",
    "    #train model on all data\n",
    "    x = df_labeled.loc[:, df_labeled.columns != 'label']\n",
    "    y = df_labeled['label']\n",
    "    \n",
    "   \n",
    "   \n",
    "    features_names = list(x.columns.values.tolist())\n",
    "   \n",
    "    rows_list = []\n",
    "    # plot Feature importance\n",
    "    types = ['gain','cover','weight']\n",
    "    for importan_type in types:\n",
    "        row_dict = {}\n",
    "        #print(importan_type)\n",
    "         #fit full model by importance_type\n",
    "        model=xgb.XGBClassifier(random_state=1,learning_rate=0.01, importance_type=importan_type).fit(x,y)\n",
    "        # plot importance\n",
    "        feature_importa= model.feature_importances_\n",
    "        print(len(feature_importa))\n",
    "\n",
    "        #print(feature_importa)\n",
    "        row_dict['importan_type'] = importan_type\n",
    "        for name,val in zip(features_names, feature_importa):\n",
    "            row_dict[name] = val  \n",
    "        rows_list.append(row_dict)\n",
    "        # plot\n",
    "        plt.bar(range(len(feature_importa)), feature_importa)\n",
    "        # Add title and axis names\n",
    "        plt.title('Feature importance by ' + importan_type)\n",
    "        plt.xlabel('Features')\n",
    "        plt.ylabel(importan_type)\n",
    "        # Create names\n",
    "        #plt.xticks(range(len(feature_importa)), features_names)\n",
    "        plt.show()\n",
    "    \n",
    "    df = pd.DataFrame(rows_list)\n",
    "    pd.DataFrame(df).to_csv(\"feature_importances.csv\", index=False)\n",
    "\n",
    "    #shap\n",
    "    #pred_contribs (bool) – When this is True the output will be a matrix of size \n",
    "    #(nsample, nfeats + 1) with each record indicating the feature contributions\n",
    "    #(SHAP values) for that prediction. \n",
    "    #The sum of all feature contributions is equal to the raw untransformed margin value of the prediction.\n",
    "    #Note the final column is the bias term.\n",
    "    \n",
    "    # The dmatrix storing the input\n",
    "    booster = model.get_booster()\n",
    "    #d_matrix = xgb.DMatrix(x, label=y)\n",
    "    predictions = booster.predict(xgb.DMatrix(x), pred_contribs=True)\n",
    "    \n",
    "    # save shap\n",
    "    features_names.append(\"bias term\")\n",
    "    pd.DataFrame(data=predictions, columns = features_names).to_csv(\"shap_values.csv\")\n",
    "\n",
    "    # Create object that can calculate shap values\n",
    "    explainer = shap.TreeExplainer(model)\n",
    "\n",
    "    # calculate shap values. This is what we will plot.\n",
    "    # Calculate shap_values for all of val_X rather than a single row, to have more data for plot.\n",
    "    shap_values = explainer.shap_values(x)\n",
    "\n",
    "    # Make plot. Index of [1] is explained in text below.\n",
    "    shap.summary_plot(shap_values, x)\n",
    "    "
   ]
  },
  {
   "cell_type": "code",
   "execution_count": 30,
   "metadata": {},
   "outputs": [
    {
     "name": "stderr",
     "output_type": "stream",
     "text": [
      "150it [00:00, 646.55it/s]\n"
     ]
    },
    {
     "name": "stdout",
     "output_type": "stream",
     "text": [
      "                dataset Algorithm Name  label\n",
      "0               abalone    EXTRA TREES      1\n",
      "1               abalone           DBRF      0\n",
      "2    acute-inflammation    EXTRA TREES      1\n",
      "3    acute-inflammation           DBRF      0\n",
      "4       acute-nephritis    EXTRA TREES      1\n",
      "..                  ...            ...    ...\n",
      "295  wine-quality-white           DBRF      0\n",
      "296               yeast    EXTRA TREES      1\n",
      "297               yeast           DBRF      0\n",
      "298                 zoo    EXTRA TREES      0\n",
      "299                 zoo           DBRF      1\n",
      "\n",
      "[300 rows x 3 columns]\n",
      "final\n",
      "                dataset        f1        f2        f3        f4        f5  \\\n",
      "0               abalone  0.651704  0.946056  0.991593  0.209084  0.838805   \n",
      "1               abalone  0.651704  0.946056  0.991593  0.209084  0.838805   \n",
      "2    acute-inflammation -0.438077  0.733125  0.912447  0.075615  0.292888   \n",
      "3    acute-inflammation -0.438077  0.733125  0.912447  0.075615  0.292888   \n",
      "4       acute-nephritis -0.668322  0.911725  0.999976 -0.835612  0.911701   \n",
      "5       acute-nephritis -0.668322  0.911725  0.999976 -0.835612  0.911701   \n",
      "6  analcatdata_asbestos -0.014054  0.853795  0.944905 -0.750590  0.603987   \n",
      "7  analcatdata_asbestos -0.014054  0.853795  0.944905 -0.750590  0.603987   \n",
      "8   analcatdata_boxing1  0.138858  0.974413  0.994025 -0.885632  0.922272   \n",
      "9   analcatdata_boxing1  0.138858  0.974413  0.994025 -0.885632  0.922272   \n",
      "\n",
      "         f6        f7        f8        f9  ...  instances_with_missing_val  \\\n",
      "0  0.248976  0.644461  0.505895  0.298566  ...                           0   \n",
      "1  0.248976  0.644461  0.505895  0.298566  ...                           0   \n",
      "2 -0.684230  0.338055  0.292522 -0.332913  ...                           0   \n",
      "3 -0.684230  0.338055  0.292522 -0.332913  ...                           0   \n",
      "4 -0.169281 -0.169281 -0.169281 -0.666311  ...                           0   \n",
      "5 -0.169281 -0.169281 -0.169281 -0.666311  ...                           0   \n",
      "6 -0.302527  0.476077  0.473883 -0.697601  ...                           0   \n",
      "7 -0.302527  0.476077  0.473883 -0.697601  ...                           0   \n",
      "8 -0.162542  0.961512  0.673564 -0.713739  ...                           0   \n",
      "9 -0.162542  0.961512  0.673564 -0.713739  ...                           0   \n",
      "\n",
      "   ratio_of_discrete_features  ratio_of_numeric_features  nonzero_vals_cnt  \\\n",
      "0                           0                          1             37593   \n",
      "1                           0                          1             37593   \n",
      "2                           0                          1               840   \n",
      "3                           0                          1               840   \n",
      "4                           0                          1               960   \n",
      "5                           0                          1               960   \n",
      "6                           0                          1               332   \n",
      "7                           0                          1               332   \n",
      "8                           0                          1               480   \n",
      "9                           0                          1               480   \n",
      "\n",
      "   missing values  attributes total  attributes categorical  \\\n",
      "0               0                 9                       0   \n",
      "1               0                 9                       0   \n",
      "2               0                 7                       0   \n",
      "3               0                 7                       0   \n",
      "4               0                 8                       0   \n",
      "5               0                 8                       0   \n",
      "6               0                 4                       0   \n",
      "7               0                 4                       0   \n",
      "8               0                 4                       0   \n",
      "9               0                 4                       0   \n",
      "\n",
      "   attributes numerical  Algorithm Name  label  \n",
      "0                     9     EXTRA TREES      1  \n",
      "1                     9            DBRF      0  \n",
      "2                     7     EXTRA TREES      1  \n",
      "3                     7            DBRF      0  \n",
      "4                     8     EXTRA TREES      1  \n",
      "5                     8            DBRF      0  \n",
      "6                     4     EXTRA TREES      1  \n",
      "7                     4            DBRF      0  \n",
      "8                     4     EXTRA TREES      1  \n",
      "9                     4            DBRF      0  \n",
      "\n",
      "[10 rows x 156 columns]\n"
     ]
    },
    {
     "data": {
      "text/plain": [
       "(300, 156)"
      ]
     },
     "execution_count": 30,
     "metadata": {},
     "output_type": "execute_result"
    }
   ],
   "source": [
    "# main()\n",
    "\n",
    "# read data\n",
    "df_metalearning= pd.read_csv('ClassificationAllMetaFeatures.csv')\n",
    "df_results = pd.read_csv('all_reslts.csv')\n",
    "\n",
    "# create labels\n",
    "# Data sets name are little bit differents so this code much between them\n",
    "dataset_names_results = list(df_results['Dataset Name'].unique().tolist())\n",
    "ignore = \"-\"\n",
    "dataset_names_results.sort(key=lambda x: x.replace(ignore,\"\"))\n",
    "dataset_names_meta= list(df_metalearning['dataset'].values.tolist())\n",
    "dataset_names_meta.sort(key=lambda x: x.replace(ignore,\"\"))\n",
    "\n",
    "df_labels = who_win(df_results, zip(dataset_names_results,dataset_names_meta))\n",
    "print(df_labels)\n",
    "#join labels and meta-features dataframes\n",
    "df_labeled = pd.merge(df_metalearning, df_labels) \n",
    "\n"
   ]
  },
  {
   "cell_type": "code",
   "execution_count": 31,
   "metadata": {},
   "outputs": [
    {
     "name": "stderr",
     "output_type": "stream",
     "text": [
      "100%|████████████████████████████████████████████████████████████████████████████████| 150/150 [00:55<00:00,  2.70it/s]\n"
     ]
    }
   ],
   "source": [
    "#encoding Algorithm Name: 1 DBRF, 0 EXTRA_TREES\n",
    "df_labeled_enco = pd.get_dummies(df_labeled, columns=['Algorithm Name'])\n",
    "\n",
    "\n",
    "# leave_one_out\n",
    "Performence_list = leave_one_out(df_labeled_enco, dataset_names_meta)\n",
    "#Save results in excel\n",
    "save_results(Performence_list)\n"
   ]
  },
  {
   "cell_type": "code",
   "execution_count": 42,
   "metadata": {},
   "outputs": [
    {
     "name": "stdout",
     "output_type": "stream",
     "text": [
      "155\n"
     ]
    },
    {
     "data": {
      "image/png": "[encoded data removed]",
      "text/plain": [
       "<Figure size 432x288 with 1 Axes>"
      ]
     },
     "metadata": {
      "needs_background": "light"
     },
     "output_type": "display_data"
    },
    {
     "name": "stdout",
     "output_type": "stream",
     "text": [
      "155\n"
     ]
    },
    {
     "data": {
      "image/png": "[encoded data removed]",
      "text/plain": [
       "<Figure size 432x288 with 1 Axes>"
      ]
     },
     "metadata": {
      "needs_background": "light"
     },
     "output_type": "display_data"
    },
    {
     "name": "stdout",
     "output_type": "stream",
     "text": [
      "155\n"
     ]
    },
    {
     "data": {
      "image/png": "[encoded data removed]",
      "text/plain": [
       "<Figure size 432x288 with 1 Axes>"
      ]
     },
     "metadata": {
      "needs_background": "light"
     },
     "output_type": "display_data"
    },
    {
     "data": {
      "image/png": "[encoded data removed]",
      "text/plain": [
       "<Figure size 576x684 with 2 Axes>"
      ]
     },
     "metadata": {
      "needs_background": "light"
     },
     "output_type": "display_data"
    }
   ],
   "source": [
    "Importance_and_Shap(df_labeled_enco)"
   ]
  },
  {
   "cell_type": "code",
   "execution_count": null,
   "metadata": {},
   "outputs": [],
   "source": []
  },
  {
   "cell_type": "code",
   "execution_count": null,
   "metadata": {},
   "outputs": [],
   "source": []
  }
 ],
 "metadata": {
  "kernelspec": {
   "display_name": "Python 3",
   "language": "python",
   "name": "python3"
  },
  "language_info": {
   "codemirror_mode": {
    "name": "ipython",
    "version": 3
   },
   "file_extension": ".py",
   "mimetype": "text/x-python",
   "name": "python",
   "nbconvert_exporter": "python",
   "pygments_lexer": "ipython3",
   "version": "3.7.4"
  }
 },
 "nbformat": 4,
 "nbformat_minor": 2
}
