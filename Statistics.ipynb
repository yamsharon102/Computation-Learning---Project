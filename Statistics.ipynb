{
 "cells": [
  {
   "cell_type": "code",
   "execution_count": 6,
   "metadata": {},
   "outputs": [],
   "source": [
    "import pandas as pd\n",
    "from scipy.stats import wilcoxon"
   ]
  },
  {
   "cell_type": "code",
   "execution_count": 7,
   "metadata": {},
   "outputs": [],
   "source": [
    "#Full results\n",
    "\n",
    "df_ExtraTree = pd.read_csv('FINAL_EXTRA.csv')\n",
    "df_DBFR = pd.read_csv('DBRF_Final_Results.csv')\n",
    "df_ExtraTree['Algorithm Name'] = df_ExtraTree['Algorithm Name'].map(lambda algo_name: 'EXTRA TREES')\n",
    "\n",
    "df_results = pd.concat([df_ExtraTree, df_DBFR])\n",
    "df_results['Dataset Name'] = df_results['Dataset Name'].map(lambda data_name: data_name.rsplit('.',1)[0])\n",
    "pd.DataFrame(df_results).to_csv(\"all_reslts.csv\", index=False)\n"
   ]
  },
  {
   "cell_type": "code",
   "execution_count": 8,
   "metadata": {},
   "outputs": [
    {
     "name": "stdout",
     "output_type": "stream",
     "text": [
      "Statistics=543.000, p=0.000\n",
      "Different distribution (reject H0)\n"
     ]
    }
   ],
   "source": [
    "# Wilcoxon Signed-Rank Test\n",
    "\n",
    "# read data\n",
    "df_results = pd.read_csv(\"all_reslts.csv\")\n",
    "dataset_names = list(df_results['Dataset Name'].unique().tolist())\n",
    "\n",
    "#slice per algorithm\n",
    "ExtraTrees_results = df_results.loc[lambda df: df['Algorithm Name'] == 'EXTRA TREES', :]\n",
    "DBRF_results =  df_results.loc[lambda df: df['Algorithm Name'] == 'DBRF', :]\n",
    "\n",
    "ExtraTrees = []\n",
    "DBRF = []\n",
    "for name in dataset_names:\n",
    "   \n",
    "    # slice per dataset\n",
    "    ExtraTrees_results_dataset = ExtraTrees_results.loc[lambda df: df['Dataset Name'] == name,:]\n",
    "    DBRF_results_dataset = DBRF_results.loc[lambda df: df['Dataset Name'] == name,:]\n",
    "    \n",
    "    # Average aucc\n",
    "    Accuracy_ExtraTrees = ExtraTrees_results_dataset['Accuracy'].mean()  \n",
    "    Accuracy_DBRF = DBRF_results_dataset['Accuracy'].mean()  \n",
    "    \n",
    "    \n",
    "    # save in a list                         \n",
    "    ExtraTrees.append(Accuracy_ExtraTrees)\n",
    "    DBRF.append(Accuracy_DBRF)\n",
    "\n",
    "    \n",
    "#Fail to Reject H0: Sample distributions are equal.\n",
    "#Reject H0: Sample distributions are not equal.\n",
    "\n",
    "# compare samples\n",
    "stat, p = wilcoxon(ExtraTrees, DBRF)\n",
    "print('Statistics=%.3f, p=%.3f' % (stat, p))\n",
    "# interpret\n",
    "alpha = 0.05\n",
    "if p > alpha:\n",
    "    print('Same distribution (fail to reject H0)')\n",
    "else:\n",
    "    print('Different distribution (reject H0)')\n",
    "    "
   ]
  },
  {
   "cell_type": "code",
   "execution_count": null,
   "metadata": {},
   "outputs": [],
   "source": []
  }
 ],
 "metadata": {
  "kernelspec": {
   "display_name": "Python 3",
   "language": "python",
   "name": "python3"
  },
  "language_info": {
   "codemirror_mode": {
    "name": "ipython",
    "version": 3
   },
   "file_extension": ".py",
   "mimetype": "text/x-python",
   "name": "python",
   "nbconvert_exporter": "python",
   "pygments_lexer": "ipython3",
   "version": "3.7.1"
  }
 },
 "nbformat": 4,
 "nbformat_minor": 2
}
