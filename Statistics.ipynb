{
 "cells": [
  {
   "cell_type": "code",
   "execution_count": 30,
   "metadata": {},
   "outputs": [],
   "source": [
    "import pandas as pd\n",
    "from scipy.stats import wilcoxon"
   ]
  },
  {
   "cell_type": "code",
   "execution_count": 31,
   "metadata": {},
   "outputs": [
    {
     "name": "stdout",
     "output_type": "stream",
     "text": [
      "Statistics=543.000, p=0.000\n",
      "Different distribution (reject H0)\n"
     ]
    }
   ],
   "source": [
    "# Wilcoxon Signed-Rank Test\n",
    "\n",
    "# read data\n",
    "df_results = pd.read_csv(\"Meta_and_stat/all_reslts.csv\")\n",
    "dataset_names = list(all_results['Dataset Name'].unique().tolist())\n",
    "\n",
    "#slice per algorithm\n",
    "ExtraTrees_results = df_results.loc[lambda df: df['Algorithm Name'] == 'EXTRA TREES', :]\n",
    "DBRF_results =  df_results.loc[lambda df: df['Algorithm Name'] == 'DBRF', :]\n",
    "\n",
    "ExtraTrees = []\n",
    "DBRF = []\n",
    "for name in dataset_names:\n",
    "   \n",
    "    # slice per dataset\n",
    "    ExtraTrees_results_dataset = ExtraTrees_results.loc[lambda df: df['Dataset Name'] == name,:]\n",
    "    DBRF_results_dataset = DBRF_results.loc[lambda df: df['Dataset Name'] == name,:]\n",
    "    \n",
    "    # Average aucc\n",
    "    Accuracy_ExtraTrees = ExtraTrees_results_dataset['Accuracy'].mean()  \n",
    "    Accuracy_DBRF = DBRF_results_dataset['Accuracy'].mean()  \n",
    "    \n",
    "    \n",
    "    # save in a list                         \n",
    "    ExtraTrees.append(Accuracy_ExtraTrees)\n",
    "    DBRF.append(Accuracy_DBRF)\n",
    "\n",
    "    \n",
    "#Fail to Reject H0: Sample distributions are equal.\n",
    "#Reject H0: Sample distributions are not equal.\n",
    "\n",
    "# compare samples\n",
    "stat, p = wilcoxon(ExtraTrees, DBRF)\n",
    "print('Statistics=%.3f, p=%.3f' % (stat, p))\n",
    "# interpret\n",
    "alpha = 0.05\n",
    "if p > alpha:\n",
    "    print('Same distribution (fail to reject H0)')\n",
    "else:\n",
    "    print('Different distribution (reject H0)')\n",
    "    "
   ]
  },
  {
   "cell_type": "code",
   "execution_count": null,
   "metadata": {},
   "outputs": [],
   "source": []
  }
 ],
 "metadata": {
  "kernelspec": {
   "display_name": "Python 3",
   "language": "python",
   "name": "python3"
  },
  "language_info": {
   "codemirror_mode": {
    "name": "ipython",
    "version": 3
   },
   "file_extension": ".py",
   "mimetype": "text/x-python",
   "name": "python",
   "nbconvert_exporter": "python",
   "pygments_lexer": "ipython3",
   "version": "3.7.4"
  }
 },
 "nbformat": 4,
 "nbformat_minor": 2
}
